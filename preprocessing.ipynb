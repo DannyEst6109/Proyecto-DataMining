{
 "cells": [
  {
   "cell_type": "code",
   "execution_count": 96,
   "metadata": {},
   "outputs": [],
   "source": [
    "# Step 1: convert sav files to unified csv\n",
    "import os\n",
    "import pandas as pd\n",
    "import pyreadstat\n",
    "\n",
    "def read_sav_files():\n",
    "\n",
    "    df_list = []\n",
    "    for year in range(2013, 2023):\n",
    "        file = f'DB_defunciones/{year}.sav'\n",
    "        if os.path.exists(file):\n",
    "            df, meta = pyreadstat.read_sav(file)\n",
    "            df_list.append(df)\n",
    "\n",
    "    df_all = pd.concat(df_list, ignore_index=True)\n",
    "    df_all.to_csv('defunciones.csv', index=False)\n",
    "\n",
    "read_sav_files()\n"
   ]
  },
  {
   "cell_type": "code",
   "execution_count": 24,
   "metadata": {},
   "outputs": [
    {
     "name": "stderr",
     "output_type": "stream",
     "text": [
      "/var/folders/g7/1ym58dj93f13x5_nxk6zr72m0000gn/T/ipykernel_22388/3628639232.py:3: DtypeWarning: Columns (15,24) have mixed types. Specify dtype option on import or set low_memory=False.\n",
      "  df = pd.read_csv('defunciones.csv')\n"
     ]
    },
    {
     "name": "stdout",
     "output_type": "stream",
     "text": [
      "departamento      category\n",
      "municipio         category\n",
      "sexo              category\n",
      "año_registrado       int64\n",
      "edad                 int64\n",
      "periodo           category\n",
      "etnia             category\n",
      "escolaridad       category\n",
      "ocupacion         category\n",
      "causa             category\n",
      "asistencia        category\n",
      "lugar             category\n",
      "dtype: object\n",
      "      departamento municipio sexo  año_registrado  edad periodo etnia  \\\n",
      "0             13.0      1327  1.0            2013    79     3.0   4.0   \n",
      "50876         10.0      1002  1.0            2013    32     3.0   4.0   \n",
      "50875          1.0      0110  1.0            2013    78     3.0   1.0   \n",
      "50874          1.0      0105  1.0            2013    76     3.0   4.0   \n",
      "50873          5.0      0507  1.0            2013    69     3.0   4.0   \n",
      "\n",
      "      escolaridad ocupacion causa asistencia lugar  \n",
      "0             1.0        61  R000        1.0   6.0  \n",
      "50876         1.0        61  K297        5.0   6.0  \n",
      "50875         1.0        61  K297        5.0   6.0  \n",
      "50874         1.0        61  K297        5.0   6.0  \n",
      "50873         1.0        61  K297        5.0   6.0  \n",
      "['13.0', '10.0', '1.0', '5.0', '9.0', ..., '3.0', '18.0', '21.0', '19.0', '6.0']\n",
      "Length: 22\n",
      "Categories (22, object): ['1.0', '10.0', '11.0', '12.0', ..., '6.0', '7.0', '8.0', '9.0']\n"
     ]
    }
   ],
   "source": [
    "# Step 2: read the csv file and clean it\n",
    "# First load the data to get the column names\n",
    "df = pd.read_csv('defunciones.csv')\n",
    "\n",
    "# Get a list of all column names\n",
    "cols = df.columns.tolist()\n",
    "\n",
    "# Create a dictionary with all columns set to str\n",
    "col_types = {col: str for col in cols}\n",
    "\n",
    "# Set 'Añoreg' to int\n",
    "col_types['Añoreg'] = int\n",
    "col_types['Edadif'] = int\n",
    "\n",
    "# Reload the data with the correct dtypes\n",
    "defunciones = pd.read_csv('defunciones.csv', dtype=col_types)\n",
    "\n",
    "defunciones = defunciones[['Depocu', 'Mupocu', 'Sexo', 'Añoreg', 'Edadif', 'Perdif', 'Puedif', 'Escodif', 'Ciuodif', 'Caudef', 'Asist', 'Ocur']]\n",
    "\n",
    "# Print null values\n",
    "# print(defunciones.isnull().sum())\n",
    "# Get shape\n",
    "# print(defunciones.shape)\n",
    "\n",
    "# Renaming columns\n",
    "defunciones = defunciones.rename(columns={'Depocu': 'departamento', 'Mupocu': 'municipio', 'Sexo': 'sexo', 'Añoreg': 'año_registrado', 'Edadif': 'edad', 'Perdif': 'periodo', 'Puedif': 'etnia', 'Escodif': 'escolaridad', 'Ciuodif': 'ocupacion', 'Caudef': 'causa', 'Asist': 'asistencia', 'Ocur': 'lugar'})\n",
    "\n",
    "# Order by year \n",
    "defunciones = defunciones.sort_values(by='año_registrado')\n",
    "\n",
    "# Save the cleaned dataframe to a csv file\n",
    "defunciones.to_csv('defunciones_clean.csv', index=False)\n",
    "\n",
    "# convert floats to strings since they are categorical (except for año), remove leading and trailing whitespaces, and put most important categories first\n",
    "for column in defunciones.columns:\n",
    "    if column != 'año_registrado' and column != 'edad':\n",
    "        defunciones[column] = defunciones[column].astype(str).str.strip()\n",
    "        defunciones[column] = defunciones[column].astype('category')\n",
    "\n",
    "# Print the first 5 rows\n",
    "# print(defunciones.head())\n",
    "\n",
    "# print Mupocu = '0101' \n",
    "# print(defunciones[defunciones['municipio'] == '0101'])\n",
    "\n",
    "# print all datatypes per column to be sure\n",
    "print(defunciones.dtypes)\n",
    "print(defunciones.head())\n"
   ]
  },
  {
   "cell_type": "code",
   "execution_count": null,
   "metadata": {},
   "outputs": [],
   "source": []
  },
  {
   "cell_type": "code",
   "execution_count": null,
   "metadata": {},
   "outputs": [],
   "source": []
  },
  {
   "cell_type": "code",
   "execution_count": null,
   "metadata": {},
   "outputs": [],
   "source": []
  },
  {
   "cell_type": "code",
   "execution_count": null,
   "metadata": {},
   "outputs": [],
   "source": []
  },
  {
   "cell_type": "code",
   "execution_count": null,
   "metadata": {},
   "outputs": [],
   "source": []
  },
  {
   "cell_type": "code",
   "execution_count": null,
   "metadata": {},
   "outputs": [],
   "source": []
  },
  {
   "cell_type": "code",
   "execution_count": null,
   "metadata": {},
   "outputs": [],
   "source": []
  },
  {
   "cell_type": "code",
   "execution_count": null,
   "metadata": {},
   "outputs": [],
   "source": []
  },
  {
   "cell_type": "code",
   "execution_count": null,
   "metadata": {},
   "outputs": [],
   "source": []
  },
  {
   "cell_type": "code",
   "execution_count": null,
   "metadata": {},
   "outputs": [],
   "source": []
  },
  {
   "cell_type": "code",
   "execution_count": null,
   "metadata": {},
   "outputs": [],
   "source": []
  },
  {
   "cell_type": "code",
   "execution_count": null,
   "metadata": {},
   "outputs": [],
   "source": []
  }
 ],
 "metadata": {
  "kernelspec": {
   "display_name": "Python 3",
   "language": "python",
   "name": "python3"
  },
  "language_info": {
   "codemirror_mode": {
    "name": "ipython",
    "version": 3
   },
   "file_extension": ".py",
   "mimetype": "text/x-python",
   "name": "python",
   "nbconvert_exporter": "python",
   "pygments_lexer": "ipython3",
   "version": "3.9.6"
  }
 },
 "nbformat": 4,
 "nbformat_minor": 2
}
