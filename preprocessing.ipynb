{
 "cells": [
  {
   "cell_type": "code",
   "execution_count": 7,
   "metadata": {},
   "outputs": [],
   "source": [
    "# Step 1: convert sav files to csv\n",
    "# read sav files and convert and merge them into a single csv file\n",
    "# files are in DB_defunciones/ from 2010.sav to 2022.sav\n",
    "# output file is defunciones.csv\n",
    "\n",
    "import os\n",
    "import pandas as pd\n",
    "import pyreadstat\n",
    "\n",
    "def read_sav_files():\n",
    "    df_list = []\n",
    "    for year in range(2012, 2022):\n",
    "        file = f'DB_defunciones/{year}.sav'\n",
    "        if os.path.exists(file):\n",
    "            df, meta = pyreadstat.read_sav(file)\n",
    "            df_list.append(df)\n",
    "\n",
    "    # Concatenate all dataframes into one\n",
    "    df_all = pd.concat(df_list, ignore_index=True)\n",
    "    \n",
    "    # Save the combined dataframe to a csv file\n",
    "    df_all.to_csv('defunciones.csv', index=False)\n",
    "\n",
    "# Call the function\n",
    "read_sav_files()\n",
    "\n"
   ]
  },
  {
   "cell_type": "code",
   "execution_count": 9,
   "metadata": {},
   "outputs": [
    {
     "name": "stderr",
     "output_type": "stream",
     "text": [
      "/var/folders/g7/1ym58dj93f13x5_nxk6zr72m0000gn/T/ipykernel_15718/1060551632.py:1: DtypeWarning: Columns (26,32,33) have mixed types. Specify dtype option on import or set low_memory=False.\n",
      "  defunciones = pd.read_csv('defunciones.csv')\n"
     ]
    },
    {
     "name": "stdout",
     "output_type": "stream",
     "text": [
      "   Depreg  mupreg  Mesreg  Añoreg  Depocu  mupocu  Areag  Sexo  Diaocu  \\\n",
      "0     1.0   106.0    12.0  2010.0     1.0   106.0    1.0   1.0    27.0   \n",
      "1     1.0   101.0    10.0  2010.0     1.0   101.0    1.0   1.0    18.0   \n",
      "2     1.0   101.0     2.0  2010.0     1.0   101.0    1.0   1.0     3.0   \n",
      "3     1.0   101.0     1.0  2010.0     1.0   116.0    2.0   1.0    16.0   \n",
      "4     1.0   101.0    12.0  2010.0     1.0   101.0    1.0   1.0    17.0   \n",
      "\n",
      "   Mesocu  ...  Cerdef  Mnadif  Mupreg  Mupocu  Pnadif  Predif  Puedif  \\\n",
      "0    12.0  ...     1.0     NaN     NaN     NaN     NaN     NaN     NaN   \n",
      "1    10.0  ...     1.0     NaN     NaN     NaN     NaN     NaN     NaN   \n",
      "2     2.0  ...     1.0     NaN     NaN     NaN     NaN     NaN     NaN   \n",
      "3     1.0  ...     1.0     NaN     NaN     NaN     NaN     NaN     NaN   \n",
      "4    12.0  ...     1.0     NaN     NaN     NaN     NaN     NaN     NaN   \n",
      "\n",
      "   Ciuodif  caudef.descrip  Añoocu  \n",
      "0      NaN             NaN     NaN  \n",
      "1      NaN             NaN     NaN  \n",
      "2      NaN             NaN     NaN  \n",
      "3      NaN             NaN     NaN  \n",
      "4      NaN             NaN     NaN  \n",
      "\n",
      "[5 rows x 35 columns]\n",
      "Depreg                  0\n",
      "mupreg             950793\n",
      "Mesreg                  0\n",
      "Añoreg                  0\n",
      "Depocu                  0\n",
      "mupocu             950793\n",
      "Areag              478523\n",
      "Sexo                    0\n",
      "Diaocu                  0\n",
      "Mesocu                  0\n",
      "añoocu             950793\n",
      "Edadif                  0\n",
      "Perdif                  0\n",
      "Getdif             878136\n",
      "Ecidif                  0\n",
      "Escodif                 0\n",
      "Ocudif             878136\n",
      "Dnadif                  0\n",
      "mnadif            1023147\n",
      "Nacdif                  0\n",
      "Dredif                  0\n",
      "Mredif                  0\n",
      "Caudef                  0\n",
      "Asist                   0\n",
      "Ocur                    0\n",
      "Cerdef                  0\n",
      "Mnadif              72748\n",
      "Mupreg             145102\n",
      "Mupocu             145102\n",
      "Pnadif             145102\n",
      "Predif             145102\n",
      "Puedif             217759\n",
      "Ciuodif            217759\n",
      "caudef.descrip    1019256\n",
      "Añoocu             372205\n",
      "dtype: int64\n"
     ]
    }
   ],
   "source": [
    "defunciones = pd.read_csv('defunciones.csv')\n",
    "print(defunciones.head())\n",
    "#print null values\n",
    "print(defunciones.isnull().sum())"
   ]
  },
  {
   "cell_type": "code",
   "execution_count": null,
   "metadata": {},
   "outputs": [],
   "source": []
  },
  {
   "cell_type": "code",
   "execution_count": null,
   "metadata": {},
   "outputs": [],
   "source": []
  }
 ],
 "metadata": {
  "kernelspec": {
   "display_name": "Python 3",
   "language": "python",
   "name": "python3"
  },
  "language_info": {
   "codemirror_mode": {
    "name": "ipython",
    "version": 3
   },
   "file_extension": ".py",
   "mimetype": "text/x-python",
   "name": "python",
   "nbconvert_exporter": "python",
   "pygments_lexer": "ipython3",
   "version": "3.9.6"
  }
 },
 "nbformat": 4,
 "nbformat_minor": 2
}
