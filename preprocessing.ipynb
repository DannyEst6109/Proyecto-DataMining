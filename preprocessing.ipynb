{
 "cells": [
  {
   "cell_type": "code",
   "execution_count": 5,
   "metadata": {},
   "outputs": [],
   "source": [
    "# Step 1: convert sav files to csv\n",
    "# read sav files and convert and merge them into a single csv file\n",
    "# files are in DB_defunciones/ from 2010.sav to 2022.sav\n",
    "# output file is defunciones.csv\n",
    "\n",
    "import os\n",
    "import pandas as pd\n",
    "import pyreadstat\n",
    "\n",
    "def read_sav_files():\n",
    "    df_list = []\n",
    "    for year in range(2012, 2022):\n",
    "        file = f'DB_defunciones/{year}.sav'\n",
    "        if os.path.exists(file):\n",
    "            df, meta = pyreadstat.read_sav(file)\n",
    "            df_list.append(df)\n",
    "\n",
    "    # Concatenate all dataframes into one\n",
    "    df_all = pd.concat(df_list, ignore_index=True)\n",
    "    \n",
    "    # Save the combined dataframe to a csv file\n",
    "    df_all.to_csv('defunciones.csv', index=False)\n",
    "\n",
    "# Call the function\n",
    "read_sav_files()\n",
    "\n"
   ]
  },
  {
   "cell_type": "code",
   "execution_count": 6,
   "metadata": {},
   "outputs": [
    {
     "name": "stderr",
     "output_type": "stream",
     "text": [
      "C:\\Users\\estra\\AppData\\Local\\Temp\\ipykernel_17588\\1060551632.py:1: DtypeWarning: Columns (18,28,29) have mixed types. Specify dtype option on import or set low_memory=False.\n",
      "  defunciones = pd.read_csv('defunciones.csv')\n"
     ]
    },
    {
     "name": "stdout",
     "output_type": "stream",
     "text": [
      "   Depreg  Mupreg  Mesreg  Añoreg  Depocu  Mupocu  Areag  Sexo  Diaocu  \\\n",
      "0    17.0    1703     6.0  2012.0    17.0    1703    1.0   1.0    25.0   \n",
      "1     1.0     101     6.0  2012.0     1.0     101    1.0   2.0    14.0   \n",
      "2     1.0     101    11.0  2012.0     1.0     101    1.0   2.0    22.0   \n",
      "3     1.0     115     3.0  2012.0     1.0     115    1.0   1.0    19.0   \n",
      "4     1.0     101    11.0  2012.0     1.0     101    1.0   2.0    20.0   \n",
      "\n",
      "   Mesocu  ...  Dredif  Mredif  Caudef  Asist  Ocur  Cerdef  Puedif  Ciuodif  \\\n",
      "0     6.0  ...    23.0    2300    M329    5.0   6.0     1.0     NaN      NaN   \n",
      "1     6.0  ...    23.0    2300    B208    1.0   1.0     1.0     NaN      NaN   \n",
      "2    11.0  ...    23.0    2300    Q441    1.0   1.0     1.0     NaN      NaN   \n",
      "3     3.0  ...    23.0    2300    X954    5.0   5.0     1.0     NaN      NaN   \n",
      "4    11.0  ...    23.0    2300    C819    1.0   1.0     1.0     NaN      NaN   \n",
      "\n",
      "  caudef.descrip  Añoocu  \n",
      "0            NaN     NaN  \n",
      "1            NaN     NaN  \n",
      "2            NaN     NaN  \n",
      "3            NaN     NaN  \n",
      "4            NaN     NaN  \n",
      "\n",
      "[5 rows x 31 columns]\n",
      "Depreg                 0\n",
      "Mupreg                 0\n",
      "Mesreg                 0\n",
      "Añoreg                 0\n",
      "Depocu                 0\n",
      "Mupocu                 0\n",
      "Areag             383137\n",
      "Sexo                   0\n",
      "Diaocu                 0\n",
      "Mesocu                 0\n",
      "Edadif                 0\n",
      "Perdif                 0\n",
      "Getdif            782750\n",
      "Ecidif                 0\n",
      "Escodif                0\n",
      "Ocudif            782750\n",
      "Pnadif                 0\n",
      "Dnadif                 0\n",
      "Mnadif                 0\n",
      "Nacdif                 0\n",
      "Predif                 0\n",
      "Dredif                 0\n",
      "Mredif                 0\n",
      "Caudef                 0\n",
      "Asist                  0\n",
      "Ocur                   0\n",
      "Cerdef                 0\n",
      "Puedif             72657\n",
      "Ciuodif            72657\n",
      "caudef.descrip    778768\n",
      "Añoocu            227103\n",
      "dtype: int64\n"
     ]
    }
   ],
   "source": [
    "defunciones = pd.read_csv('defunciones.csv')\n",
    "print(defunciones.head())\n",
    "#print null values\n",
    "print(defunciones.isnull().sum())"
   ]
  },
  {
   "cell_type": "code",
   "execution_count": null,
   "metadata": {},
   "outputs": [],
   "source": []
  },
  {
   "cell_type": "code",
   "execution_count": null,
   "metadata": {},
   "outputs": [],
   "source": []
  }
 ],
 "metadata": {
  "kernelspec": {
   "display_name": "Python 3",
   "language": "python",
   "name": "python3"
  },
  "language_info": {
   "codemirror_mode": {
    "name": "ipython",
    "version": 3
   },
   "file_extension": ".py",
   "mimetype": "text/x-python",
   "name": "python",
   "nbconvert_exporter": "python",
   "pygments_lexer": "ipython3",
   "version": "3.12.1"
  }
 },
 "nbformat": 4,
 "nbformat_minor": 2
}
